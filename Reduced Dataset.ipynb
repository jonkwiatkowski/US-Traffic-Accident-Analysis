{
 "cells": [
  {
   "cell_type": "code",
   "execution_count": null,
   "id": "b620ac73",
   "metadata": {},
   "outputs": [],
   "source": [
    "#Import dependencies\n",
    "import csv\n",
    "import pandas as pd"
   ]
  },
  {
   "cell_type": "code",
   "execution_count": null,
   "id": "de8c2eeb",
   "metadata": {},
   "outputs": [],
   "source": [
    "#Declare CSV file\n",
    "us_accidents= pd.read_csv(\"US_Accidents_Dec21_updated.csv\")"
   ]
  },
  {
   "cell_type": "code",
   "execution_count": null,
   "id": "07b694e8",
   "metadata": {},
   "outputs": [],
   "source": [
    "#Reduced columns\n",
    "reduced_us_accidents = us_accidents[[\"Start_Lat\",\"Start_Lng\",\"Severity\",\"Start_Time\",\"State\",\"Roundabout\",\"Stop\",\"Traffic_Signal\",\"Sunrise_Sunset\",\"Visibility(mi)\",\"Crossing\"]]\n",
    "\n",
    "reduced_us_accidents.head(50)"
   ]
  },
  {
   "cell_type": "code",
   "execution_count": null,
   "id": "3242e24c",
   "metadata": {},
   "outputs": [],
   "source": [
    "#Checked memory\n",
    "(reduced_us_accidents.memory_usage()/(1024*1024)).sum()"
   ]
  },
  {
   "cell_type": "code",
   "execution_count": null,
   "id": "c1e799da",
   "metadata": {},
   "outputs": [],
   "source": [
    "#Split Start_Time to get a year column to filter by 2021\n",
    "years= (reduced_us_accidents['Start_Time'].str.split(pat=\"-\", expand= True))"
   ]
  },
  {
   "cell_type": "code",
   "execution_count": null,
   "id": "8f77e8a2",
   "metadata": {},
   "outputs": [],
   "source": [
    "#Added years column to data frame\n",
    "reduced_us_accidents[\"Years\"]= years[0]\n",
    "reduced_us_accidents.head()"
   ]
  },
  {
   "cell_type": "code",
   "execution_count": null,
   "id": "215fc0d0",
   "metadata": {},
   "outputs": [],
   "source": [
    "#Converted Years to integer\n",
    "updated_df = reduced_us_accidents.astype({\"Years\":\"int32\"})"
   ]
  },
  {
   "cell_type": "code",
   "execution_count": null,
   "id": "d60e55cc",
   "metadata": {},
   "outputs": [],
   "source": [
    "#Checked updated dataframe\n",
    "updated_df.head()"
   ]
  },
  {
   "cell_type": "code",
   "execution_count": null,
   "id": "a2f5d330",
   "metadata": {},
   "outputs": [],
   "source": [
    "#Filter by year 2021\n",
    "dataset_reduced_years = updated_df.loc[updated_df[\"Years\"]>= 2021] \n",
    "dataset_reduced_years.memory_usage()/(1024*1024)"
   ]
  },
  {
   "cell_type": "code",
   "execution_count": null,
   "id": "d6709909",
   "metadata": {
    "scrolled": true
   },
   "outputs": [],
   "source": [
    "#Eliminated start date, year, ID, Temperature, and duplicate Traffic_Signal \n",
    "year2021 = dataset_reduced_years[[\"Severity\",\"Start_Lat\",\"Start_Lng\",\"State\",\"Roundabout\",\"Stop\",\"Traffic_Signal\",\"Sunrise_Sunset\",\"Visibility(mi)\",\"Crossing\"]]\n",
    "year2021                    "
   ]
  },
  {
   "cell_type": "code",
   "execution_count": null,
   "id": "5eff2a7d",
   "metadata": {},
   "outputs": [],
   "source": [
    "#Checked memory to see if it is in limitations\n",
    "(year2021.memory_usage()/(1024*1024)).sum()"
   ]
  },
  {
   "cell_type": "code",
   "execution_count": null,
   "id": "a9bcaa01",
   "metadata": {},
   "outputs": [],
   "source": [
    "year2021.to_csv(\"Resources/2021_us_accidents.csv\", index=False, header=True)"
   ]
  },
  {
   "cell_type": "code",
   "execution_count": null,
   "id": "f3ff8b70",
   "metadata": {},
   "outputs": [],
   "source": []
  }
 ],
 "metadata": {
  "kernelspec": {
   "display_name": "Python 3 (ipykernel)",
   "language": "python",
   "name": "python3"
  },
  "language_info": {
   "codemirror_mode": {
    "name": "ipython",
    "version": 3
   },
   "file_extension": ".py",
   "mimetype": "text/x-python",
   "name": "python",
   "nbconvert_exporter": "python",
   "pygments_lexer": "ipython3",
   "version": "3.8.13"
  }
 },
 "nbformat": 4,
 "nbformat_minor": 5
}
