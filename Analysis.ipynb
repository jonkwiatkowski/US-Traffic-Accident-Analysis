{
 "cells": [
  {
   "cell_type": "markdown",
   "id": "d5e629ff",
   "metadata": {},
   "source": [
    "# 2021 U.S. Traffic Accident Analysis"
   ]
  },
  {
   "cell_type": "markdown",
   "id": "965fa1c6",
   "metadata": {},
   "source": [
    "## Overview\n",
    "\n",
    "Our project is to uncover patterns in traffic accidents across the US.\n",
    "We'll examine relationships between location and volume and severity of accidents; impact of disruptions to traffic \n",
    "flow to accident severity; effects of weather on traffic safety; and related questions, as the data admits. "
   ]
  },
  {
   "cell_type": "code",
   "execution_count": null,
   "id": "5e6d089f",
   "metadata": {},
   "outputs": [],
   "source": [
    "#Import dependencies\n",
    "import csv\n",
    "import pandas as pd\n",
    "import matplotlib.pyplot as plt\n",
    "import gmaps\n",
    "import gmaps.datasets\n",
    "import requests\n",
    "import json\n",
    "import seaborn as sns\n",
    "from config import gkey \n",
    "from random import sample\n",
    "import warnings\n",
    "warnings.filterwarnings('ignore')\n",
    "import scipy.stats as stats\n",
    "from scipy.stats import linregress\n",
    "import numpy as np"
   ]
  },
  {
   "cell_type": "code",
   "execution_count": null,
   "id": "b2a6b587",
   "metadata": {},
   "outputs": [],
   "source": [
    "#Load CSV\n",
    "accident_data = pd.read_csv(\"Resources/2021_us_accidents.csv\")\n",
    "accident_data.head()"
   ]
  },
  {
   "cell_type": "code",
   "execution_count": null,
   "id": "c1dcb675",
   "metadata": {},
   "outputs": [],
   "source": [
    "#Add a column to count each accident as 1\n",
    "accident_data[\"# of accidents\"] = 1\n",
    "accident_data.head()"
   ]
  },
  {
   "cell_type": "markdown",
   "id": "04888e5a",
   "metadata": {},
   "source": [
    "## Accidents by Location"
   ]
  },
  {
   "cell_type": "markdown",
   "id": "1c919094",
   "metadata": {},
   "source": [
    "#### How many accidents happened in 2021? \n",
    "* There were about 1.5 Million accidents reported in the US in 2021\n",
    "\n",
    "#### Which states have the highest and lowest accident total?\n",
    "* The three states with the highest recorded number of reported accidents were California, Florida, and Texas.\n",
    "* The three states with the lowest recorded number of reported accidents were Maine, Vermont, and South Dakota."
   ]
  },
  {
   "cell_type": "code",
   "execution_count": null,
   "id": "9c725b7e",
   "metadata": {},
   "outputs": [],
   "source": [
    "#See how many rows there are\n",
    "len(accident_data[\"State\"])"
   ]
  },
  {
   "cell_type": "code",
   "execution_count": null,
   "id": "696f37bf",
   "metadata": {},
   "outputs": [],
   "source": [
    "#Pull out columns for the heatmap\n",
    "accident_data[[\"Start_Lat\",\"Start_Lng\",\"State\",\"Severity\"]][724:737]"
   ]
  },
  {
   "cell_type": "code",
   "execution_count": null,
   "id": "2942fc5f",
   "metadata": {},
   "outputs": [],
   "source": [
    "#Create a sample for the limitations of our API key\n",
    "sample = accident_data.sample(n = 10 , replace = False)\n",
    "print(sample)"
   ]
  },
  {
   "cell_type": "code",
   "execution_count": null,
   "id": "13d46abe",
   "metadata": {},
   "outputs": [],
   "source": [
    "ustates = []\n",
    "for x in accident_data[\"State\"]:\n",
    "    if x not in ustates:\n",
    "        ustates.append(x)\n",
    "print(ustates)\n",
    "#This list includes the continential US and Washington DC. (Excludes AK and HI)"
   ]
  },
  {
   "cell_type": "code",
   "execution_count": null,
   "id": "f715e232",
   "metadata": {},
   "outputs": [],
   "source": [
    "fig, ax = plt.subplots(figsize = (15.7,10.27))\n",
    "_severity = ['1', '2', '3', '4']\n",
    "\n",
    "\n",
    "sns.scatterplot(data = accident_data, x = \"Start_Lng\", y = \"Start_Lat\", hue = 'Severity', palette = ['green','blue'])\n",
    "\n",
    "plt.title(\"Accidents in US by Severity\", fontsize = 20)\n",
    "plt.xlabel(\"Longitude\")\n",
    "plt.ylabel(\"Latitude\")\n",
    "plt.grid()"
   ]
  },
  {
   "cell_type": "code",
   "execution_count": null,
   "id": "caad5480",
   "metadata": {},
   "outputs": [],
   "source": [
    "#Sum of accident for each state\n",
    "ustates = []\n",
    "for x in accident_data[\"State\"]:\n",
    "    if x not in ustates:\n",
    "        ustates.append(x)\n",
    "for x in ustates:\n",
    "    state_data = accident_data.loc[accident_data[\"State\"] == x]\n",
    "    print(f'{x} : {state_data[\"# of accidents\"].sum()}')"
   ]
  },
  {
   "cell_type": "code",
   "execution_count": null,
   "id": "2d108538",
   "metadata": {},
   "outputs": [],
   "source": [
    "#Create a data frame of the top 3 states with the most accidents\n",
    "top_three = accident_data[[\"Start_Lat\",\"Start_Lng\",\"State\",\"# of accidents\"]]\n",
    "top_three.reset_index()\n",
    "\n",
    "reduced_top = top_three.loc[(top_three[\"State\"] == \"CA\") | (top_three[\"State\"] == \"FL\") | (top_three[\"State\"] == \"TX\")]\n",
    "reduced_top"
   ]
  },
  {
   "cell_type": "code",
   "execution_count": null,
   "id": "501b7d2d",
   "metadata": {},
   "outputs": [],
   "source": [
    "#Create an equal sample of each state to fit the limitations of the google heat map\n",
    "ca_sample = reduced_top.loc[reduced_top[\"State\"] == \"CA\"]\n",
    "reduced_ca_sample = ca_sample.sample(n=10)\n",
    "\n",
    "fl_sample = reduced_top.loc[reduced_top[\"State\"] == \"FL\"]\n",
    "reduced_fl_sample = fl_sample.sample(n=10)\n",
    "\n",
    "tx_sample = reduced_top.loc[reduced_top[\"State\"] == \"TX\"]\n",
    "reduced_tx_sample = tx_sample.sample(n=10)"
   ]
  },
  {
   "cell_type": "code",
   "execution_count": null,
   "id": "e8b0bebb",
   "metadata": {},
   "outputs": [],
   "source": [
    "#Combine CA and FL\n",
    "cafl_sample = pd.merge(reduced_ca_sample,reduced_fl_sample, on=[\"State\",\"Start_Lat\",\"Start_Lng\",\"# of accidents\"], how= \"left\")\n",
    "cafl_sample"
   ]
  },
  {
   "cell_type": "code",
   "execution_count": null,
   "id": "e790407d",
   "metadata": {},
   "outputs": [],
   "source": [
    "#Combine the CAFL with TX to get a data frame of all three states\n",
    "cafl_sample = pd.merge(reduced_ca_sample,reduced_fl_sample, on=[\"State\",\"Start_Lat\",\"Start_Lng\",\"# of accidents\"], how= \"outer\")\n",
    "three_states = pd.merge(cafl_sample,reduced_tx_sample, on= [\"State\",\"Start_Lat\",\"Start_Lng\",\"# of accidents\"], how= \"outer\")\n",
    "three_states.head()"
   ]
  },
  {
   "cell_type": "code",
   "execution_count": null,
   "id": "ba4e96ee",
   "metadata": {},
   "outputs": [],
   "source": [
    "# #Code for heatmap to show top 3 states with the most accidents\n",
    "# gmaps_key = gmaps.configure(api_key = gkey)\n",
    "# locations_top3 = three_states[[\"Start_Lat\",\"Start_Lng\"]]\n",
    "# weights_top3 = three_states[\"# of accidents\"]"
   ]
  },
  {
   "cell_type": "code",
   "execution_count": null,
   "id": "4871ce24",
   "metadata": {},
   "outputs": [],
   "source": [
    "# #Code to display heatmap\n",
    "# fig5 = gmaps.figure()\n",
    "# fig5.add_layer(gmaps.heatmap_layer(locations_top3, weights = weights_top3))\n",
    "# fig5"
   ]
  },
  {
   "cell_type": "code",
   "execution_count": null,
   "id": "a4905a80",
   "metadata": {},
   "outputs": [],
   "source": [
    "# #Code for heatmap of sample across the nation\n",
    "# gmaps_key = gmaps.configure(api_key = gkey)\n",
    "# locations = sample[[\"Start_Lat\",\"Start_Lng\"]]\n",
    "# weights = sample[\"# of accidents\"][0:10]"
   ]
  },
  {
   "cell_type": "code",
   "execution_count": null,
   "id": "2e6709c4",
   "metadata": {},
   "outputs": [],
   "source": [
    "# #Code to display heatmap\n",
    "# fig6 = gmaps.figure()\n",
    "# fig6.add_layer(gmaps.heatmap_layer(locations, weights = weights))\n",
    "# fig6"
   ]
  },
  {
   "cell_type": "code",
   "execution_count": null,
   "id": "008149e5",
   "metadata": {},
   "outputs": [],
   "source": [
    "# Create a bar chart to show the accidents and severity by state\n",
    "accbystate = accident_data[[\"State\", \"Severity\",\"# of accidents\"]]\n",
    "accbystate.groupby(['State', 'Severity']).size().unstack().plot(kind = 'barh', stacked = True, figsize = (15, 11))\n",
    "plt.title(\"Accidents and Severity by State\", fontsize = 20)\n",
    "plt.xlabel(\"Number of Accidents\")\n",
    "plt.tight_layout"
   ]
  },
  {
   "cell_type": "code",
   "execution_count": null,
   "id": "018d4b4d",
   "metadata": {},
   "outputs": [],
   "source": [
    "sns.set_theme(style=\"darkgrid\")\n",
    "fig, ax = plt.subplots(figsize=(11.7,6.27))\n",
    "sns.countplot(y = \"State\", data = accident_data, order=accident_data.State.value_counts().iloc[:10].index).set_title('Top 10 States with the most Accidents', fontsize = 20);"
   ]
  },
  {
   "cell_type": "markdown",
   "id": "984fa523",
   "metadata": {},
   "source": [
    "## Visibility (Weather and Daylight)"
   ]
  },
  {
   "cell_type": "markdown",
   "id": "c2be68d7",
   "metadata": {},
   "source": [
    "#### How does visibility affect likelihood of accidents?\n",
    "##### Daylight vs. Nighttime\n",
    " * 64.62% of accidents happened during the day and only 35.38% happened at night. Although night driving is thought to be more dangerous, there is much more traffic during the day.\n",
    " \n",
    "##### Weather visibility\n",
    " * The number of accidents vs visibility yielded a positive relationship. We have $r^2 \\approx 0.5940$ which corresponds to a moderate fit."
   ]
  },
  {
   "cell_type": "code",
   "execution_count": null,
   "id": "3295888f",
   "metadata": {},
   "outputs": [],
   "source": [
    "vis_data = accident_data.groupby(\"Visibility(mi)\").count()\n",
    "vis_data[\"# of accidents\"]"
   ]
  },
  {
   "cell_type": "code",
   "execution_count": null,
   "id": "44072b52",
   "metadata": {},
   "outputs": [],
   "source": [
    "#Create a data frame to be used in the scatter plot\n",
    "vis_data.reset_index(inplace = True)\n",
    "vis_data.head()"
   ]
  },
  {
   "cell_type": "code",
   "execution_count": null,
   "id": "f62e7d61",
   "metadata": {},
   "outputs": [],
   "source": [
    "#Scatter plot of visibility vs accidents\n",
    "groupby = accident_data.groupby(['Visibility(mi)'])['# of accidents'].sum()\n",
    "x_values = vis_data[\"Visibility(mi)\"]\n",
    "y_values = vis_data[\"# of accidents\"]\n",
    "plt.scatter(x_values,y_values)\n",
    "plt.xlabel(\"Visibility(mi)\")\n",
    "plt.ylabel(\"Number of accidents\")\n",
    "plt.title(\"Visibility vs Accidents\", fontsize = 20)\n",
    "fig1 = plt.gcf()\n",
    "fig1.set_size_inches(15.7,10.27)\n",
    "plt.show()\n"
   ]
  },
  {
   "cell_type": "code",
   "execution_count": null,
   "id": "6de27037",
   "metadata": {},
   "outputs": [],
   "source": [
    "adj_vis_data = accident_data[[\"Visibility(mi)\",\"# of accidents\"]]\n",
    "#Create adjusted visilibity data so anything over 10 will now read 10\n",
    "adj_vis_data[\"Adjusted_Visibility\"] = adj_vis_data[\"Visibility(mi)\"]\n",
    "adj_vis_data.loc[adj_vis_data[\"Visibility(mi)\"] > 10, \"Adjusted_Visibility\"] = 10\n",
    "#Create adjusted visilibity data so anything 0-.25 = .25\n",
    "adj_vis_data.loc[adj_vis_data[\"Visibility(mi)\"] <= .25, \"Adjusted_Visibility\"] = .25\n",
    "#Create adjusted visilibity data so anything .26-.50 = .5\n",
    "adj_vis_data.loc[adj_vis_data[\"Visibility(mi)\"].between(.25,.5), \"Adjusted_Visibility\"] = .5\n",
    "#Create adjusted visilibity data so anything .51-.75=.75\n",
    "adj_vis_data.loc[adj_vis_data[\"Visibility(mi)\"].between(.5,.75), \"Adjusted_Visibility\"] = .75\n",
    "#Create adjusted visilibity data so anything .76-1=1\n",
    "adj_vis_data.loc[adj_vis_data[\"Visibility(mi)\"].between(.75,1), \"Adjusted_Visibility\"] = 1\n",
    "#Create new dataframe with only Adjusted Visibility under 10\n",
    "adj_vis_data = adj_vis_data.loc[adj_vis_data[\"Visibility(mi)\"] < 10]\n",
    "adj_vis_data.head(10)"
   ]
  },
  {
   "cell_type": "code",
   "execution_count": null,
   "id": "09d3b1d4",
   "metadata": {},
   "outputs": [],
   "source": [
    "#Group and count accidents per visibility\n",
    "adj_vis_data_group = adj_vis_data.groupby(\"Adjusted_Visibility\").count()\n",
    "adj_vis_data_group.reset_index(inplace = True)\n",
    "adj_vis_data_group"
   ]
  },
  {
   "cell_type": "code",
   "execution_count": null,
   "id": "e6254c07",
   "metadata": {},
   "outputs": [],
   "source": [
    "#Plot the scatter plot for adjusted visibility and # of accidents\n",
    "x_values = adj_vis_data_group[\"Adjusted_Visibility\"]\n",
    "y_values = adj_vis_data_group[\"# of accidents\"]\n",
    "(slope, intercept, rvalue, pvalue, stderr) = linregress(x_values, y_values)\n",
    "regress_values = x_values * slope + intercept\n",
    "line_eq = \"y = \" + str(round(slope,2)) + \"x + \" + str(round(intercept,2))\n",
    "plt.scatter(x_values,y_values)\n",
    "plt.plot(x_values,regress_values,\"r-\")\n",
    "plt.annotate(line_eq,(6,12000),fontsize=15,color=\"red\")\n",
    "plt.xlabel(\"Adjusted Visibility(mi)\")\n",
    "plt.ylabel(\"# of accidents\")\n",
    "plt.title(\"Adjusted Visibility and Number of Accidents\", fontsize = 20)\n",
    "print(f\"The r-squared is: {rvalue**2}\")\n",
    "fig3 = plt.gcf()\n",
    "fig3.set_size_inches(15.7,10.27)\n",
    "plt.show()"
   ]
  },
  {
   "cell_type": "code",
   "execution_count": null,
   "id": "76a3e61a",
   "metadata": {},
   "outputs": [],
   "source": [
    "#Create and format a pie chart for day vs night accidents\n",
    "daynight = accident_data[[\"Sunrise_Sunset\",\"# of accidents\"]].groupby(\"Sunrise_Sunset\").count()\n",
    "colors2 = [\"lightblue\",\"orange\"]\n",
    "daynight.plot.pie(y = \"# of accidents\",colors = colors2 , legend = False, autopct = \"%1.2f%%\")\n",
    "fig4 = plt.gcf()\n",
    "fig4.set_size_inches(15.7,10.27)\n",
    "plt.title(\"Number of Accidents Day vs Night\", fontsize = 20)"
   ]
  },
  {
   "cell_type": "markdown",
   "id": "e8980816",
   "metadata": {},
   "source": [
    "## Traffic Distruptions"
   ]
  },
  {
   "cell_type": "markdown",
   "id": "9aa3010f",
   "metadata": {},
   "source": [
    "**Alternative Hypothesis:** Traffic obstructions help to reduce the number of accidents.\n",
    "\n",
    "**Null Hypothesis:** Traffic obstructions have no effect on the number of accidents.\n",
    "\n",
    "**Chi-Squared Test**\n",
    "#### How do traffic distruptions affect the total number of accidents?\n",
    "* 83.4% of all traffic accidents in 2021 were not near a traffic obstruction (signal, stop sign, roundabout, or crosswalk)\n",
    "* Only 0.006% of accidents happened at a roundabout, 2% at a stopsign, 7.2% at a crosswalk, and 7.4% at a traffic signal.\n",
    "* Using a Chi-squared hypothesis test, we were able to determine that fewer accidents occur near traffic obstruction, p-value near 0."
   ]
  },
  {
   "cell_type": "code",
   "execution_count": null,
   "id": "e7da864e",
   "metadata": {
    "scrolled": true
   },
   "outputs": [],
   "source": [
    "#Create a data frame to use for distrubtions pie chart\n",
    "day_disruptions = accident_data[[\"Sunrise_Sunset\", \"Stop\", \"Roundabout\", \"Traffic_Signal\", \"Crossing\", \"# of accidents\"]]\n",
    "day_disruptions.loc[day_disruptions[\"Sunrise_Sunset\"] =='Day', \"Sunrise_Sunset\"] = 1\n",
    "day_disruptions.loc[day_disruptions[\"Sunrise_Sunset\"] =='Night', \"Sunrise_Sunset\"] = 0\n",
    "day_disruptions.head(5)"
   ]
  },
  {
   "cell_type": "code",
   "execution_count": null,
   "id": "ab84bebf",
   "metadata": {},
   "outputs": [],
   "source": [
    "roundabouts = (day_disruptions.loc[day_disruptions[\"Roundabout\"] == True]).sum()\n",
    "stop = (day_disruptions.loc[day_disruptions[\"Stop\"] == True]).sum()\n",
    "signal = (day_disruptions.loc[day_disruptions[\"Traffic_Signal\"] == True]).sum()\n",
    "crosswalk = (day_disruptions.loc[day_disruptions[\"Crossing\"] == True]).sum()\n",
    "none = day_disruptions.loc[(day_disruptions[\"Roundabout\"] == False) & (day_disruptions[\"Stop\"] == False) & (day_disruptions[\"Traffic_Signal\"] == False) & (day_disruptions[\"Crossing\"] == False)].sum()"
   ]
  },
  {
   "cell_type": "code",
   "execution_count": null,
   "id": "d0f946a3",
   "metadata": {},
   "outputs": [],
   "source": [
    "distruptions = [stop[\"Stop\"], signal[\"Traffic_Signal\"],  roundabouts[\"Roundabout\"], crosswalk[\"Crossing\"], none[\"# of accidents\"]]\n",
    "distruption_labels = [\"Stop Sign\",\"Traffic Signal\", \"Roundabout\", \"Crosswalk\", \"No Disruption\"]\n",
    "colors = [\"pink\",\"yellow\", \"lightgreen\", \"lightblue\", \"orange\"]\n",
    "explode = (0.3,0.3,0.3,0.3,0.1)\n",
    "plt.pie(distruptions, explode=explode, labels=distruption_labels, colors=colors, autopct=\"%1.2f%%\", shadow=True)\n",
    "fig = plt.gcf()\n",
    "fig.set_size_inches(10,10)\n",
    "plt.title(\"Accidents by Disruption\", fontsize = 20)"
   ]
  },
  {
   "cell_type": "code",
   "execution_count": null,
   "id": "366d2648",
   "metadata": {},
   "outputs": [],
   "source": [
    "labels = ['Crosswalk','Roundabout', 'Traffic Signal', 'Stop Sign']\n",
    "# Get data for each disruption and Day/Night\n",
    "x = np.arange(4)\n",
    "y1 = crosswalk[\"Sunrise_Sunset\"],roundabouts[\"Sunrise_Sunset\"], signal[\"Sunrise_Sunset\"], stop[\"Sunrise_Sunset\"]\n",
    "y2 =  crosswalk[\"Crossing\"]-crosswalk[\"Sunrise_Sunset\"],roundabouts[\"Roundabout\"]-roundabouts[\"Sunrise_Sunset\"], signal[\"Traffic_Signal\"]-signal[\"Sunrise_Sunset\"], stop[\"Stop\"]-stop[\"Sunrise_Sunset\"]\n",
    "width = 0.40\n",
    "# plot data in grouped manner of bar type\n",
    "plt.bar(x-0.2, y1, width)\n",
    "plt.bar(x+0.2, y2, width)\n",
    "plt.ylabel('# of Accidents')\n",
    "plt.title('Number of Accidents by Disruption and Day/Night', fontsize = 20)\n",
    "plt.xticks(x, labels)\n",
    "plt.legend([\"Day\", \"Night\"])\n",
    "fig4 = plt.gcf()\n",
    "fig4.set_size_inches(15.7,10.27)\n",
    "plt.show()"
   ]
  },
  {
   "cell_type": "code",
   "execution_count": null,
   "id": "b8484067",
   "metadata": {},
   "outputs": [],
   "source": [
    "# Declare Variables\n",
    "accidents_roundabout = roundabouts[\"# of accidents\"]\n",
    "accidents_stop = stop[\"# of accidents\"]\n",
    "accidents_signal = signal[\"# of accidents\"]\n",
    "accidents_crosswalk = crosswalk[\"# of accidents\"]\n",
    "accidents_no_obstruction = none[\"# of accidents\"]\n",
    "print(accidents_roundabout)\n",
    "print(accidents_stop)\n",
    "print(accidents_signal)\n",
    "print(accidents_crosswalk)\n",
    "print(accidents_no_obstruction)\n",
    "# Calculate total number of accidents and the expected number of accidents\n",
    "accidents_total = accidents_roundabout + accidents_stop + accidents_signal + accidents_crosswalk + accidents_no_obstruction\n",
    "expected = accidents_total / 5\n",
    "print(accidents_total)\n",
    "print(expected)"
   ]
  },
  {
   "cell_type": "code",
   "execution_count": null,
   "id": "7de101d7",
   "metadata": {},
   "outputs": [],
   "source": [
    "# Create a dataframe with number of observed and expected accidents\n",
    "accidents_obstruction_df = pd.DataFrame({\n",
    "    \"Observed\": [accidents_roundabout, accidents_stop, accidents_signal, accidents_crosswalk,accidents_no_obstruction],\n",
    "    \"Expected\": [expected, expected, expected, expected, expected]\n",
    "})\n",
    "accidents_obstruction_df"
   ]
  },
  {
   "cell_type": "code",
   "execution_count": null,
   "id": "6eea6505",
   "metadata": {},
   "outputs": [],
   "source": [
    "# Run the chi square test with stats.chisquare()\n",
    "stats.chisquare(accidents_obstruction_df['Observed'], accidents_obstruction_df['Expected'])"
   ]
  },
  {
   "cell_type": "markdown",
   "id": "942e467e",
   "metadata": {},
   "source": [
    "## Analysis\n",
    "\n",
    "#### How many accidents happened in 2021? \n",
    "* There were about 1.5 Million accidents reported in the US in 2021\n",
    "\n",
    "#### Which states have the highest and lowest accident total?\n",
    "* The three states with the highest recorded number of reported accidents were California, Florida, and Texas.\n",
    "* The three states with the lowest recorded number of reported accidents were Maine, Vermont, and South Dakota.\n",
    "\n",
    "#### How does visibility affect likelihood of accidents?\n",
    "##### Daylight vs. Nighttime\n",
    " * 64.62% of accidents happened during the day and only 35.38% happened at night. Although night driving is thought to be more dangerous, there is much more traffic during the day.\n",
    " \n",
    "##### Weather visibility\n",
    " * The number of accidents vs visibility yielded a positive relationship. We have $r^2 \\approx 0.5940$ which corresponds to a moderate fit.\n",
    "\n",
    "#### How do traffic distruptions affect the total number of accidents?\n",
    "* 83.4% of all traffic accidents in 2021 were not near a traffic obstruction (signal, stop sign, roundabout, or crosswalk)\n",
    "* Only 0.006% of accidents happened at a roundabout, 2% at a stop sign, 7.2% at a crosswalk, and 7.4% at a traffic signal.\n",
    "* Using a Chi-squared hypothesis test, we were able to determine that fewer accidents occur near traffic obstruction, p-value near 0."
   ]
  },
  {
   "cell_type": "markdown",
   "id": "6213d4f9",
   "metadata": {},
   "source": [
    "## Limitations\n",
    "* Alaska and Hawaii didn't report any traffic accident data.\n",
    "* Size restriction for GitHub uploads. A lot of potentially interesting data needed to be cut out of the study.\n",
    "* Traffic volume wasn't included in the data set.\n",
    "* Visibility varied widely in terms of how it was reported.  In order to standardize, we eliminated 10 mi and above from the analysis as no impact.  Adjusted visibility values were calculated by rounding values under 1 mi up to the nearest quarter mile.\n",
    "* 200,000 invalid Weather data.\n",
    "* Used a subset of traffic distruptions in order to reduce our data size.\n",
    "* Severity was related to the level of impact on traffic\n",
    "* Very little diversity of severity in our dataset"
   ]
  },
  {
   "cell_type": "markdown",
   "id": "1c4aaded",
   "metadata": {},
   "source": [
    "## Lessons Learned\n",
    " - Checked to see if the dataset is not zipped. It can mislead you on the actual size if it is.\n",
    " - Having some point of reference for total miles of roadway or traffic volume\n",
    " - Looking back we could've done more with our time of day data or day in year data for a better correlation on when accidents will happen."
   ]
  },
  {
   "cell_type": "code",
   "execution_count": null,
   "id": "e1a350ca",
   "metadata": {},
   "outputs": [],
   "source": []
  }
 ],
 "metadata": {
  "kernelspec": {
   "display_name": "Python 3 (ipykernel)",
   "language": "python",
   "name": "python3"
  },
  "language_info": {
   "codemirror_mode": {
    "name": "ipython",
    "version": 3
   },
   "file_extension": ".py",
   "mimetype": "text/x-python",
   "name": "python",
   "nbconvert_exporter": "python",
   "pygments_lexer": "ipython3",
   "version": "3.8.13"
  }
 },
 "nbformat": 4,
 "nbformat_minor": 5
}
