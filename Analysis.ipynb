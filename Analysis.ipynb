{
 "cells": [
  {
   "cell_type": "code",
   "execution_count": null,
   "id": "5e6d089f",
   "metadata": {},
   "outputs": [],
   "source": [
    "#Import dependencies\n",
    "import csv\n",
    "import pandas as pd\n",
    "import matplotlib.pyplot as plt\n",
    "import gmaps\n",
    "import gmaps.datasets\n",
    "import requests\n",
    "import json\n",
    "import seaborn as sns\n",
    "from config import gkey \n",
    "from random import sample"
   ]
  },
  {
   "cell_type": "code",
   "execution_count": null,
   "id": "b2a6b587",
   "metadata": {},
   "outputs": [],
   "source": [
    "#Load CSV\n",
    "accident_data = pd.read_csv(\"Resources/2021_us_accidents.csv\")\n",
    "accident_data.head()"
   ]
  },
  {
   "cell_type": "code",
   "execution_count": null,
   "id": "c1dcb675",
   "metadata": {},
   "outputs": [],
   "source": [
    "#Add a column to count each accident as 1\n",
    "accident_data[\"# of accidents\"] = 1\n",
    "accident_data.head()"
   ]
  },
  {
   "cell_type": "code",
   "execution_count": null,
   "id": "9c725b7e",
   "metadata": {},
   "outputs": [],
   "source": [
    "#See how many rows there are\n",
    "len(accident_data[\"State\"])"
   ]
  },
  {
   "cell_type": "code",
   "execution_count": null,
   "id": "696f37bf",
   "metadata": {},
   "outputs": [],
   "source": [
    "#Pull out columns for the heatmap\n",
    "accident_data[[\"Start_Lat\",\"Start_Lng\",\"State\",\"Severity\"]][724:737]"
   ]
  },
  {
   "cell_type": "code",
   "execution_count": null,
   "id": "2942fc5f",
   "metadata": {},
   "outputs": [],
   "source": [
    "#Create a sample for the limitations of our API key\n",
    "sample = accident_data.sample(n = 10 , replace = False)\n",
    "print(sample)"
   ]
  },
  {
   "cell_type": "code",
   "execution_count": null,
   "id": "bdff0e42",
   "metadata": {},
   "outputs": [],
   "source": [
    "#Data for just Minnesota\n",
    "MN_accident_data = accident_data.loc[accident_data[\"State\"] == \"MN\"]\n"
   ]
  },
  {
   "cell_type": "code",
   "execution_count": null,
   "id": "13d46abe",
   "metadata": {},
   "outputs": [],
   "source": [
    "ustates = []\n",
    "for x in accident_data[\"State\"]:\n",
    "    if x not in ustates:\n",
    "        ustates.append(x)\n",
    "print(ustates)\n",
    "#This list includes the continential US and Washington DC. (Excludes AK and HI)"
   ]
  },
  {
   "cell_type": "code",
   "execution_count": null,
   "id": "f715e232",
   "metadata": {},
   "outputs": [],
   "source": [
    "#Scatter plot of accidents in our data\n",
    "# x_values = accident_data[\"Start_Lng\"]\n",
    "# y_values = accident_data[\"Start_Lat\"]\n",
    "# fig, ac = plt.subplots(figsize = (10,7),)\n",
    "# ac.scatter(x_values,y_values, facecolors = \"r\", edgecolors = \"b\", alpha = 0.5)\n",
    "# plt.xlabel(\"Longitude\")\n",
    "# plt.ylabel(\"Latitude\")\n",
    "# plt.show()\n",
    "\n",
    "fig, ax = plt.subplots(figsize=(15.7,10.27))\n",
    "_severity= ['1', '2', '3', '4']\n",
    "\n",
    "\n",
    "sns.scatterplot(data=accident_data, x=\"Start_Lng\", y=\"Start_Lat\", hue='Severity', palette=['green','blue'])\n",
    "plt.grid()\n",
    "plt.title(\"Accidents in US by Severity\")\n",
    "plt.xlabel(\"Longitude\")\n",
    "plt.ylabel(\"Latitude\")"
   ]
  },
  {
   "cell_type": "code",
   "execution_count": null,
   "id": "a4905a80",
   "metadata": {},
   "outputs": [],
   "source": [
    "#Code for heatmap\n",
    "# gmaps_key = gmaps.configure(api_key = gkey)\n",
    "# locations = sample[[\"Start_Lat\",\"Start_Lng\"]]\n",
    "# weights = sample[\"# of accidents\"][0:10]"
   ]
  },
  {
   "cell_type": "code",
   "execution_count": null,
   "id": "2e6709c4",
   "metadata": {},
   "outputs": [],
   "source": [
    "#Code to display heatmap\n",
    "# fig = gmaps.figure()\n",
    "# fig.add_layer(gmaps.heatmap_layer(locations, weights = weights[0:10]))\n",
    "# fig"
   ]
  },
  {
   "cell_type": "code",
   "execution_count": null,
   "id": "008149e5",
   "metadata": {},
   "outputs": [],
   "source": [
    "accbystate = accident_data[[\"State\", \"Severity\",\"# of accidents\"]]\n",
    "accbystate.groupby(['State', 'Severity']).size().unstack().plot(kind='barh', stacked=True, figsize = (15, 11))\n",
    "plt.title(\"Accidents and Severity by State\")\n",
    "plt.xlabel(\"Number of Accidents\")\n",
    "plt.tight_layout"
   ]
  },
  {
   "cell_type": "code",
   "execution_count": null,
   "id": "cd00972b",
   "metadata": {},
   "outputs": [],
   "source": [
    "groupby = accident_data.groupby(['Visibility(mi)'])['# of accidents']\n",
    "groupby.head()"
   ]
  },
  {
   "cell_type": "code",
   "execution_count": null,
   "id": "3295888f",
   "metadata": {},
   "outputs": [],
   "source": [
    "vis_data = accident_data.groupby(\"Visibility(mi)\").count()\n",
    "vis_data[\"# of accidents\"]"
   ]
  },
  {
   "cell_type": "code",
   "execution_count": null,
   "id": "44072b52",
   "metadata": {},
   "outputs": [],
   "source": [
    "vis_data.reset_index(inplace = True)\n",
    "vis_data"
   ]
  },
  {
   "cell_type": "code",
   "execution_count": null,
   "id": "f62e7d61",
   "metadata": {},
   "outputs": [],
   "source": [
    "#Scatter plot of visibility vs accidents\n",
    "groupby = accident_data.groupby(['Visibility(mi)'])['# of accidents'].sum()\n",
    "x_values = vis_data[\"Visibility(mi)\"]\n",
    "y_values = vis_data[\"# of accidents\"]\n",
    "plt.scatter(x_values,y_values)\n",
    "plt.xlabel(\"Visibility(mi)\")\n",
    "plt.ylabel(\"# of accidents\")\n",
    "plt.show()"
   ]
  },
  {
   "cell_type": "code",
   "execution_count": null,
   "id": "76a3e61a",
   "metadata": {},
   "outputs": [],
   "source": [
    "daynight = accident_data[[\"Sunrise_Sunset\",\"# of accidents\"]].groupby(\"Sunrise_Sunset\").count()\n",
    "daynight.plot.pie(y = \"# of accidents\", legend = False, autopct = \"%1.2f%%\")"
   ]
  },
  {
   "cell_type": "code",
   "execution_count": null,
   "id": "ab84bebf",
   "metadata": {},
   "outputs": [],
   "source": [
    "roundabouts = (accident_data.loc[accident_data[\"Roundabout\"] == True]).sum()\n",
    "stop = (accident_data.loc[accident_data[\"Stop\"] == True]).sum()\n",
    "signal = (accident_data.loc[accident_data[\"Traffic_Signal\"] == True]).sum()\n",
    "crosswalk = (accident_data.loc[accident_data[\"Crossing\"] == True]).sum()\n",
    "none = accident_data.loc[(accident_data[\"Roundabout\"] == False) & (accident_data[\"Stop\"] == False) & (accident_data[\"Traffic_Signal\"] == False) & (accident_data[\"Crossing\"] == False)].sum()"
   ]
  },
  {
   "cell_type": "code",
   "execution_count": null,
   "id": "c8359935",
   "metadata": {},
   "outputs": [],
   "source": [
    "none[\"# of accidents\"]"
   ]
  },
  {
   "cell_type": "code",
   "execution_count": null,
   "id": "c79785a3",
   "metadata": {},
   "outputs": [],
   "source": [
    "crosswalk[\"Crossing\"]"
   ]
  },
  {
   "cell_type": "code",
   "execution_count": null,
   "id": "d0f946a3",
   "metadata": {},
   "outputs": [],
   "source": [
    "distruptions = [roundabouts[\"Roundabout\"], stop[\"Stop\"], signal[\"Traffic_Signal\"], crosswalk[\"Crossing\"], none[\"# of accidents\"]]\n",
    "distruption_labels = [\"Roundabouts\", \"Stop Sign\", \"Traffic Signal\", \"Crosswalk\", \"No Obstruction\"]\n",
    "colors = [\"yellow\", \"red\", \"green\", \"purple\", \"blue\"]\n",
    "explode = (0,0,0,0,0.3)\n",
    "plt.pie(distruptions, explode=explode, labels=distruption_labels, colors=colors, autopct=\"%1.1f%%\", shadow=True)"
   ]
  },
  {
   "cell_type": "code",
   "execution_count": null,
   "id": "b8484067",
   "metadata": {},
   "outputs": [],
   "source": []
  }
 ],
 "metadata": {
  "kernelspec": {
   "display_name": "Python 3 (ipykernel)",
   "language": "python",
   "name": "python3"
  },
  "language_info": {
   "codemirror_mode": {
    "name": "ipython",
    "version": 3
   },
   "file_extension": ".py",
   "mimetype": "text/x-python",
   "name": "python",
   "nbconvert_exporter": "python",
   "pygments_lexer": "ipython3",
   "version": "3.8.13"
  }
 },
 "nbformat": 4,
 "nbformat_minor": 5
}
